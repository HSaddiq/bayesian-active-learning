{
 "cells": [
  {
   "cell_type": "code",
   "execution_count": null,
   "metadata": {},
   "outputs": [],
   "source": [
    "import jax.numpy as jnp\n",
    "import matplotlib.pyplot as plt\n",
    "import torchvision\n",
    "from jax import random\n",
    "\n",
    "from bayesian_active_learning.utils import one_hot"
   ]
  },
  {
   "attachments": {},
   "cell_type": "markdown",
   "metadata": {},
   "source": [
    "# Set seed"
   ]
  },
  {
   "cell_type": "code",
   "execution_count": null,
   "metadata": {},
   "outputs": [],
   "source": [
    "key = random.PRNGKey(0)"
   ]
  },
  {
   "attachments": {},
   "cell_type": "markdown",
   "metadata": {},
   "source": [
    "# 1. Setup"
   ]
  },
  {
   "attachments": {},
   "cell_type": "markdown",
   "metadata": {},
   "source": [
    "# 1.1 Load + preprocess MNIST"
   ]
  },
  {
   "cell_type": "code",
   "execution_count": null,
   "metadata": {},
   "outputs": [],
   "source": [
    "full_train_dataset = torchvision.datasets.MNIST(\n",
    "    \"../datasets\", train=True, download=True\n",
    ")\n",
    "full_test_dataset = torchvision.datasets.MNIST(\n",
    "    \"../datasets\", train=False, download=True\n",
    ")\n",
    "\n",
    "num_classes = len(full_train_dataset.classes)\n",
    "total_train_samples = len(full_train_dataset.data)\n",
    "total_test_samples = len(full_train_dataset.data)\n",
    "\n",
    "all_train_X = jnp.array(full_train_dataset.data) / 255.0\n",
    "all_train_y = one_hot(jnp.array(full_train_dataset.targets), k=num_classes)\n",
    "\n",
    "all_test_X = jnp.array(full_test_dataset.data) / 255.0\n",
    "all_test_y = one_hot(jnp.array(full_test_dataset.targets), k=num_classes)"
   ]
  },
  {
   "attachments": {},
   "cell_type": "markdown",
   "metadata": {},
   "source": [
    "## 1.2 Split train set into initial train set and pool set"
   ]
  },
  {
   "cell_type": "code",
   "execution_count": null,
   "metadata": {},
   "outputs": [],
   "source": [
    "num_initial_train_points = 100\n",
    "\n",
    "key, subkey = random.split(key, 2)\n",
    "\n",
    "# select training data\n",
    "initial_training_indices = random.choice(\n",
    "    subkey,\n",
    "    jnp.arange(total_train_samples),\n",
    "    shape=(num_initial_train_points,),\n",
    "    replace=False,\n",
    ")\n",
    "\n",
    "initial_train_X = all_train_X[initial_training_indices]\n",
    "initial_train_y = all_train_y[initial_training_indices]\n",
    "\n",
    "# select pool data (all train points not in the initial training subselections)\n",
    "mask = jnp.ones(total_train_samples, jnp.bool_)\n",
    "mask = mask.at[initial_training_indices].set(False)\n",
    "initial_pool_X = all_train_X[mask]\n",
    "initial_pool_y = all_train_y[mask]"
   ]
  },
  {
   "attachments": {},
   "cell_type": "markdown",
   "metadata": {},
   "source": [
    "# 2. Model setup"
   ]
  },
  {
   "cell_type": "code",
   "execution_count": null,
   "metadata": {},
   "outputs": [],
   "source": [
    "from functools import partial\n",
    "from typing import Callable, Tuple\n",
    "\n",
    "import haiku as hk\n",
    "import jax.numpy as jnp\n",
    "from jax import nn, random\n",
    "\n",
    "from bayesian_active_learning.models import BayesianConvNet\n",
    "\n",
    "key = random.PRNGKey(0)\n",
    "\n",
    "\n",
    "def forward(\n",
    "    num_classes: int,\n",
    "    dropout_rates: Tuple[float, float],\n",
    "    activation: Callable[[jnp.ndarray], jnp.ndarray],\n",
    "    x: jnp.ndarray,\n",
    "):\n",
    "    net = BayesianConvNet(\n",
    "        num_classes=num_classes, dropout_rates=dropout_rates, activation=nn.relu\n",
    "    )\n",
    "\n",
    "    return net(x)\n",
    "\n",
    "\n",
    "num_classes = 10\n",
    "dropout_rates = (0.25, 0.5)\n",
    "activation = nn.relu\n",
    "model = partial(forward, num_classes, dropout_rates, activation)\n",
    "model = hk.transform(model)\n",
    "\n",
    "key, subkey = random.split(key)\n",
    "params = model.init(key, jnp.zeros((1, 28, 28)))"
   ]
  },
  {
   "cell_type": "code",
   "execution_count": null,
   "metadata": {},
   "outputs": [],
   "source": [
    "import haiku as hk\n",
    "import jax\n",
    "import jax.numpy as jnp\n",
    "\n",
    "\n",
    "def forward(x):\n",
    "    mlp = hk.nets.MLP([300, 100, 10])\n",
    "    return mlp(x)\n",
    "\n",
    "\n",
    "forward = hk.transform(forward)\n",
    "\n",
    "rng = hk.PRNGSequence(jax.random.PRNGKey(42))\n",
    "x = jnp.ones([8, 28 * 28])\n",
    "params = forward.init(next(rng), x)\n",
    "logits = forward.apply(params, next(rng), x)"
   ]
  },
  {
   "cell_type": "code",
   "execution_count": null,
   "metadata": {},
   "outputs": [],
   "source": []
  }
 ],
 "metadata": {
  "kernelspec": {
   "display_name": "Python 3",
   "language": "python",
   "name": "python3"
  },
  "language_info": {
   "codemirror_mode": {
    "name": "ipython",
    "version": 3
   },
   "file_extension": ".py",
   "mimetype": "text/x-python",
   "name": "python",
   "nbconvert_exporter": "python",
   "pygments_lexer": "ipython3"
  },
  "vscode": {
   "interpreter": {
    "hash": "eb4a0ac80907d7f44e1a5e88d3d3381b33e3dbedd3a24d113e876f30a0c46bee"
   }
  }
 },
 "nbformat": 4,
 "nbformat_minor": 2
}
